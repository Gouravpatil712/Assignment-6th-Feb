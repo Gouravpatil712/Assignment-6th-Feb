{
 "cells": [
  {
   "cell_type": "markdown",
   "id": "59d55cc6-eb0f-4209-b80a-96876168f039",
   "metadata": {},
   "source": [
    "## Question 01 - Create a function which will take a list as an argument and return the product of all the numbers after creating a flat list.\n",
    "Use the below-given list as an argument for your function.\n",
    "list1 = [1,2,3,4, [44,55,66, True], False, (34,56,78,89,34), {1,2,3,3,2,1}, {1:34, \"key2\": [55, 67, 78, 89], 4: (45,\n",
    "22, 61, 34)}, [56, 'data science'], 'Machine Learning']"
   ]
  },
  {
   "cell_type": "code",
   "execution_count": 1,
   "id": "7762b94c-e851-4404-94a4-316fd4665f6f",
   "metadata": {},
   "outputs": [],
   "source": [
    "# Answer :- \n",
    "list1 = [1,2,3,4, [44,55,66, True], False, (34,56,78,89,34), {1,2,3,3,2,1}, {1:34, \"key2\": [55, 67, 78, 89], 4: (45, 22, 61, 34)}, [56, 'data science'], 'Machine Learning']\n",
    "\n",
    "\n",
    "def product_of_numbers(list1):\n",
    "    flat_list = []\n",
    "    for item in list1:\n",
    "        if type(item) == list:\n",
    "            for element in item:\n",
    "                if type(element) in [int, float]:\n",
    "                    flat_list.append(element)\n",
    "        elif type(item) == tuple:\n",
    "            for element in item:\n",
    "                if type(element) in [int, float]:\n",
    "                    flat_list.append(element)\n",
    "        elif type(item) == set:\n",
    "            for element in item:\n",
    "                if type(element) in [int, float]:\n",
    "                    flat_list.append(element)\n",
    "        elif type(item) == dict:\n",
    "            for key, value in item.items():\n",
    "                if type(key) in [int, float]:\n",
    "                    flat_list.append(key)\n",
    "                if type(value) in [int, float]:\n",
    "                    flat_list.append(value)\n",
    "                if type(value) == list:\n",
    "                    for element in value:\n",
    "                        if type(element) in [int, float]:\n",
    "                            flat_list.append(element)\n",
    "        elif type(item) in [int, float]:\n",
    "            flat_list.append(item)\n",
    "\n",
    "    if len(flat_list) == 0:\n",
    "        return None\n",
    "\n",
    "    product = 1\n",
    "    for num in flat_list:\n",
    "        product = product * num\n",
    "\n",
    "    return product\n"
   ]
  },
  {
   "cell_type": "code",
   "execution_count": 2,
   "id": "4a22c8b1-5f00-44c6-acb2-85ea7ae51c14",
   "metadata": {},
   "outputs": [
    {
     "name": "stdout",
     "output_type": "stream",
     "text": [
      "2013730282081706885067571200\n"
     ]
    }
   ],
   "source": [
    "result = product_of_numbers(list1)\n",
    "if result is not None:\n",
    "    print(result)\n",
    "else:\n",
    "    print(\"The input list does not contain any numbers.\")\n"
   ]
  },
  {
   "cell_type": "markdown",
   "id": "6bb354ea-7cbd-4fd8-89f6-adee5a9d5333",
   "metadata": {},
   "source": [
    "## Question 02 - Write a python program for encrypting a message sent to you by your friend. The logic of encryption should be such that, for a the output should be z. For b, the output should be y. For c, the output should be x respectively. Also, the whitespace should be replaced with a dollar sign. Keep the punctuation marks unchanged.\n",
    "Input Sentence: I want to become a Data Scientist.\n",
    "Encrypt the above input sentence using the program you just created.\n",
    "Note: Convert the given input sentence into lowercase before encrypting. The final output should be\n",
    "lowercase."
   ]
  },
  {
   "cell_type": "code",
   "execution_count": null,
   "id": "e9679ccb-5ca8-4b49-8df2-df44d22e969b",
   "metadata": {},
   "outputs": [],
   "source": [
    "# Answer :-  \n",
    "\n",
    "# Define the encrypt() function\n",
    "def encrypt(message):\n",
    "    encrypted_message = \"\"\n",
    "    for i in message:\n",
    "        if i == \" \":\n",
    "            encrypted_message = encrypted_message + \"$\"\n",
    "        elif cha.isalpha():\n",
    "            encrypted_message += chr(122 - (ord(char) - 97))\n",
    "        else:\n",
    "            encrypted_message += char\n",
    "    return encrypted_message.lower()\n",
    "\n"
   ]
  },
  {
   "cell_type": "code",
   "execution_count": null,
   "id": "700e2c72-bc3a-4989-a43c-9e0e8c0918eb",
   "metadata": {},
   "outputs": [],
   "source": []
  },
  {
   "cell_type": "code",
   "execution_count": null,
   "id": "e60d8ee8-2bec-42ac-a206-16bb1efd0552",
   "metadata": {},
   "outputs": [],
   "source": []
  },
  {
   "cell_type": "code",
   "execution_count": null,
   "id": "88f7ff3f-1e61-4acd-a004-dfc2f2b8e47c",
   "metadata": {},
   "outputs": [],
   "source": []
  },
  {
   "cell_type": "code",
   "execution_count": null,
   "id": "53ba0b8e-f141-42fd-85ed-6e99df13dc6c",
   "metadata": {},
   "outputs": [],
   "source": []
  },
  {
   "cell_type": "code",
   "execution_count": null,
   "id": "7f737dfb-62d3-492f-a6d8-9e251c5bd0cd",
   "metadata": {},
   "outputs": [],
   "source": []
  },
  {
   "cell_type": "code",
   "execution_count": null,
   "id": "89e21550-956f-4d5f-85ca-717e00ed25c9",
   "metadata": {},
   "outputs": [],
   "source": []
  },
  {
   "cell_type": "code",
   "execution_count": null,
   "id": "c361f2ed-732b-4078-af7b-dbf1e887a467",
   "metadata": {},
   "outputs": [],
   "source": []
  }
 ],
 "metadata": {
  "kernelspec": {
   "display_name": "Python 3 (ipykernel)",
   "language": "python",
   "name": "python3"
  },
  "language_info": {
   "codemirror_mode": {
    "name": "ipython",
    "version": 3
   },
   "file_extension": ".py",
   "mimetype": "text/x-python",
   "name": "python",
   "nbconvert_exporter": "python",
   "pygments_lexer": "ipython3",
   "version": "3.10.8"
  }
 },
 "nbformat": 4,
 "nbformat_minor": 5
}
